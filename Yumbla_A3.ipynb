{
  "nbformat": 4,
  "nbformat_minor": 0,
  "metadata": {
    "kernelspec": {
      "display_name": "Python 3",
      "language": "python",
      "name": "python3"
    },
    "colab": {
      "name": "Yumbla_A3.ipynb",
      "provenance": [],
      "include_colab_link": true
    }
  },
  "cells": [
    {
      "cell_type": "markdown",
      "metadata": {
        "id": "view-in-github",
        "colab_type": "text"
      },
      "source": [
        "<a href=\"https://colab.research.google.com/github/myumbla3/AI_Assignment03/blob/main/Yumbla_A3.ipynb\" target=\"_parent\"><img src=\"https://colab.research.google.com/assets/colab-badge.svg\" alt=\"Open In Colab\"/></a>"
      ]
    },
    {
      "cell_type": "code",
      "metadata": {
        "id": "CybePdkiVAXI"
      },
      "source": [
        "#import section\n",
        "import pandas as pd\n",
        "import numpy as np\n",
        "from sklearn.model_selection import train_test_split\n",
        "from sklearn.model_selection import cross_val_score\n",
        "from sklearn import svm\n",
        "from sklearn.preprocessing import PolynomialFeatures\n",
        "from sklearn.linear_model import BayesianRidge\n",
        "from sklearn import linear_model"
      ],
      "execution_count": null,
      "outputs": []
    },
    {
      "cell_type": "markdown",
      "metadata": {
        "id": "eSlJcdTzVAXK"
      },
      "source": [
        "# Part 1. Loading the dataset"
      ]
    },
    {
      "cell_type": "code",
      "metadata": {
        "id": "8zXKBLzcVAXK",
        "outputId": "89940027-68b1-47bd-cfe4-24e862bae2c6"
      },
      "source": [
        "#Using pandas load the dataset (load remotely, not locally)\n",
        "data=pd.read_csv(\"https://raw.githubusercontent.com/profmcnich/example_notebook/main/science_data_large.csv\")\n",
        "# Output the first 15 rows of the data\n",
        "data.head(15)"
      ],
      "execution_count": null,
      "outputs": [
        {
          "data": {
            "text/html": [
              "<div>\n",
              "<style scoped>\n",
              "    .dataframe tbody tr th:only-of-type {\n",
              "        vertical-align: middle;\n",
              "    }\n",
              "\n",
              "    .dataframe tbody tr th {\n",
              "        vertical-align: top;\n",
              "    }\n",
              "\n",
              "    .dataframe thead th {\n",
              "        text-align: right;\n",
              "    }\n",
              "</style>\n",
              "<table border=\"1\" class=\"dataframe\">\n",
              "  <thead>\n",
              "    <tr style=\"text-align: right;\">\n",
              "      <th></th>\n",
              "      <th>Temperature °C</th>\n",
              "      <th>Mols KCL</th>\n",
              "      <th>Size nm^3</th>\n",
              "    </tr>\n",
              "  </thead>\n",
              "  <tbody>\n",
              "    <tr>\n",
              "      <th>0</th>\n",
              "      <td>469</td>\n",
              "      <td>647</td>\n",
              "      <td>6.244743e+05</td>\n",
              "    </tr>\n",
              "    <tr>\n",
              "      <th>1</th>\n",
              "      <td>403</td>\n",
              "      <td>694</td>\n",
              "      <td>5.779610e+05</td>\n",
              "    </tr>\n",
              "    <tr>\n",
              "      <th>2</th>\n",
              "      <td>302</td>\n",
              "      <td>975</td>\n",
              "      <td>6.196847e+05</td>\n",
              "    </tr>\n",
              "    <tr>\n",
              "      <th>3</th>\n",
              "      <td>779</td>\n",
              "      <td>916</td>\n",
              "      <td>1.460449e+06</td>\n",
              "    </tr>\n",
              "    <tr>\n",
              "      <th>4</th>\n",
              "      <td>901</td>\n",
              "      <td>18</td>\n",
              "      <td>4.325726e+04</td>\n",
              "    </tr>\n",
              "    <tr>\n",
              "      <th>5</th>\n",
              "      <td>545</td>\n",
              "      <td>637</td>\n",
              "      <td>7.124634e+05</td>\n",
              "    </tr>\n",
              "    <tr>\n",
              "      <th>6</th>\n",
              "      <td>660</td>\n",
              "      <td>519</td>\n",
              "      <td>7.006960e+05</td>\n",
              "    </tr>\n",
              "    <tr>\n",
              "      <th>7</th>\n",
              "      <td>143</td>\n",
              "      <td>869</td>\n",
              "      <td>2.718260e+05</td>\n",
              "    </tr>\n",
              "    <tr>\n",
              "      <th>8</th>\n",
              "      <td>89</td>\n",
              "      <td>461</td>\n",
              "      <td>8.919803e+04</td>\n",
              "    </tr>\n",
              "    <tr>\n",
              "      <th>9</th>\n",
              "      <td>294</td>\n",
              "      <td>776</td>\n",
              "      <td>4.770210e+05</td>\n",
              "    </tr>\n",
              "    <tr>\n",
              "      <th>10</th>\n",
              "      <td>991</td>\n",
              "      <td>117</td>\n",
              "      <td>2.441771e+05</td>\n",
              "    </tr>\n",
              "    <tr>\n",
              "      <th>11</th>\n",
              "      <td>307</td>\n",
              "      <td>781</td>\n",
              "      <td>5.006455e+05</td>\n",
              "    </tr>\n",
              "    <tr>\n",
              "      <th>12</th>\n",
              "      <td>206</td>\n",
              "      <td>70</td>\n",
              "      <td>3.145200e+04</td>\n",
              "    </tr>\n",
              "    <tr>\n",
              "      <th>13</th>\n",
              "      <td>437</td>\n",
              "      <td>599</td>\n",
              "      <td>5.390215e+05</td>\n",
              "    </tr>\n",
              "    <tr>\n",
              "      <th>14</th>\n",
              "      <td>566</td>\n",
              "      <td>75</td>\n",
              "      <td>9.185271e+04</td>\n",
              "    </tr>\n",
              "  </tbody>\n",
              "</table>\n",
              "</div>"
            ],
            "text/plain": [
              "    Temperature °C  Mols KCL     Size nm^3\n",
              "0              469       647  6.244743e+05\n",
              "1              403       694  5.779610e+05\n",
              "2              302       975  6.196847e+05\n",
              "3              779       916  1.460449e+06\n",
              "4              901        18  4.325726e+04\n",
              "5              545       637  7.124634e+05\n",
              "6              660       519  7.006960e+05\n",
              "7              143       869  2.718260e+05\n",
              "8               89       461  8.919803e+04\n",
              "9              294       776  4.770210e+05\n",
              "10             991       117  2.441771e+05\n",
              "11             307       781  5.006455e+05\n",
              "12             206        70  3.145200e+04\n",
              "13             437       599  5.390215e+05\n",
              "14             566        75  9.185271e+04"
            ]
          },
          "execution_count": 5,
          "metadata": {},
          "output_type": "execute_result"
        }
      ]
    },
    {
      "cell_type": "code",
      "metadata": {
        "id": "NhT_KohEVAXL",
        "outputId": "909b1ccb-97f9-4fe4-b628-31c2a340e659"
      },
      "source": [
        "# Display a summary of the table information (number of datapoints, etc.)\n",
        "data.info()"
      ],
      "execution_count": null,
      "outputs": [
        {
          "name": "stdout",
          "output_type": "stream",
          "text": [
            "<class 'pandas.core.frame.DataFrame'>\n",
            "RangeIndex: 1000 entries, 0 to 999\n",
            "Data columns (total 3 columns):\n",
            " #   Column          Non-Null Count  Dtype  \n",
            "---  ------          --------------  -----  \n",
            " 0   Temperature °C  1000 non-null   int64  \n",
            " 1   Mols KCL        1000 non-null   int64  \n",
            " 2   Size nm^3       1000 non-null   float64\n",
            "dtypes: float64(1), int64(2)\n",
            "memory usage: 23.6 KB\n"
          ]
        }
      ]
    },
    {
      "cell_type": "markdown",
      "metadata": {
        "id": "Qa2CQa_MVAXM"
      },
      "source": [
        "# Part 2. Spliting the dataset"
      ]
    },
    {
      "cell_type": "code",
      "metadata": {
        "id": "NT5UGsBOVAXM"
      },
      "source": [
        "# Take the pandas dataset and split it into our features (X) and label (y)\n",
        "features = data[[\"Temperature °C\",\"Mols KCL\"]]\n",
        "label = data [\"Size nm^3\"]"
      ],
      "execution_count": null,
      "outputs": []
    },
    {
      "cell_type": "code",
      "metadata": {
        "id": "QKYZg_vSVAXM",
        "outputId": "794e77c0-185f-45a2-8e84-691b6cd1194f"
      },
      "source": [
        "# Use sklearn to split the features and labels into a training/test set. (90% train, 10% test)\n",
        "X_train, X_test, y_train, y_test = train_test_split(features, label, test_size = 0.1, random_state = 0)\n",
        "print(f'Holding out {len(X_test)} records for testing. ')\n",
        "print(f'Using {len(X_train)} records for training.')"
      ],
      "execution_count": null,
      "outputs": [
        {
          "name": "stdout",
          "output_type": "stream",
          "text": [
            "Holding out 100 records for testing. \n",
            "Using 900 records for training.\n"
          ]
        }
      ]
    },
    {
      "cell_type": "markdown",
      "metadata": {
        "id": "STnqZNe-VAXN"
      },
      "source": [
        "# Part 3. Perform a Linear Regression"
      ]
    },
    {
      "cell_type": "code",
      "metadata": {
        "id": "2bVxWtT6VAXO",
        "outputId": "b509ad0a-4ded-40e2-8b5c-d627b7b871d9"
      },
      "source": [
        "# Use sklearn to train a model on the training set\n",
        "from sklearn.linear_model import LinearRegression\n",
        "from sklearn.datasets import make_regression\n",
        "\n",
        "\n",
        "lin_reg = LinearRegression()\n",
        "lin_reg.fit(X_train,y_train)\n",
        "\n",
        "\n",
        "prediction=lin_reg.predict(X_test)\n",
        "\n",
        "print(f\"Prediction on entire test data: {prediction}\")"
      ],
      "execution_count": null,
      "outputs": [
        {
          "name": "stdout",
          "output_type": "stream",
          "text": [
            "Prediction on entire test data: [ 134891.57109752  566848.1770532  1241137.60975794  -24367.1696409\n",
            "  -70657.3340248   384956.44708746  467392.47066236  960873.69862144\n",
            "    8407.39619923   51611.35989487  838231.36519831 1232720.46674085\n",
            "  901563.3931183  -118835.20674597  188176.20244545 1158467.7057509\n",
            "  665263.26735435  560560.92590561  163940.53886357  469055.93661764\n",
            " 1419180.64745835  -84401.29716064  555956.53417346 1401489.68980634\n",
            "  450621.8221688  1161403.05700777   45784.96014151  408948.47482721\n",
            "  421868.97874553  645969.69402768  467893.44392697  208517.41869172\n",
            " 1438187.73449241  708330.20055877 1400047.62029314  711132.70221441\n",
            "  942380.06884206 1116186.8384737  1257396.19462681  189369.12027644\n",
            "   71374.08771584  870102.22808014   94087.37936383  407174.28131093\n",
            "  271473.01984826  388791.32041263  237873.60116061  790013.37060675\n",
            "  112125.67358907  512139.47602221  905252.99153208 -163237.6627926\n",
            " 1056768.59266956  757865.71816238  422587.22624213  838109.54727724\n",
            " 1168808.55676556  420476.72783278  562454.20876288 1196155.27165602\n",
            " 1141958.63424972 -205320.64929795 -193313.545068    882065.02954971\n",
            " -233968.28100031 1111316.74753909  125465.51340122  862352.1203292\n",
            "  495379.97656865 -260706.08232516  463075.95885281  636857.7605043\n",
            "  958770.10968217  514388.39855279  139911.11783352  874190.37529762\n",
            "  634698.83712449 1003517.17372194  536824.90063825  402129.82527471\n",
            " 1095143.98093098  752354.83621194  438989.75107231  175035.63703514\n",
            "  339707.01615308  -94234.2067607   749168.99832276  802198.96214839\n",
            "  767320.80736899   79090.92438656   72706.82329805  325614.2641341\n",
            "  424739.29883178   38884.61453832  264437.03738384 1344491.9443744\n",
            "  747405.89516655  321578.72277709  473270.08264618  772305.80675459]\n"
          ]
        }
      ]
    },
    {
      "cell_type": "code",
      "metadata": {
        "id": "xGb0YJKFVAXP",
        "outputId": "acd9c5f3-115d-41a9-c5fc-06d047870110"
      },
      "source": [
        "# Create a sample datapoint and predict the output of that sample with the trained model\n",
        "\n",
        "predictions=lin_reg.predict(np.array([[0,1]]))\n",
        "predictions"
      ],
      "execution_count": null,
      "outputs": [
        {
          "data": {
            "text/plain": [
              "array([-399299.78591432])"
            ]
          },
          "execution_count": 10,
          "metadata": {},
          "output_type": "execute_result"
        }
      ]
    },
    {
      "cell_type": "code",
      "metadata": {
        "id": "PbnTnbogVAXP",
        "outputId": "bcdca4c7-9e99-4368-8a03-939ac401e1cf"
      },
      "source": [
        "#Report on the score for that model, in your own words (markdown, not code) explain what the score means\n",
        "print(f\"Score: {lin_reg.score(X_test,y_test)}\")"
      ],
      "execution_count": null,
      "outputs": [
        {
          "name": "stdout",
          "output_type": "stream",
          "text": [
            "Score: 0.8761646752736478\n"
          ]
        }
      ]
    },
    {
      "cell_type": "markdown",
      "metadata": {
        "id": "0qgWQWuTVAXQ"
      },
      "source": [
        "This score is showing the accuracy of our model, so our model has 87.6% accuracy.\n",
        "\n"
      ]
    },
    {
      "cell_type": "code",
      "metadata": {
        "id": "obKei7QqVAXQ",
        "outputId": "7c8297f6-c93e-42a9-ef0b-e433d2ffeb17"
      },
      "source": [
        "## Extract the coefficents and intercept from the model and write an equation for your h(x) using LaTeX\n",
        "lin_reg.coef_,lin_reg.intercept_"
      ],
      "execution_count": null,
      "outputs": [
        {
          "data": {
            "text/plain": [
              "(array([ 863.58108791, 1006.12741921]), -400305.91333353304)"
            ]
          },
          "execution_count": 21,
          "metadata": {},
          "output_type": "execute_result"
        }
      ]
    },
    {
      "cell_type": "markdown",
      "metadata": {
        "id": "zIQ85_SLVAXR"
      },
      "source": [
        "$$y = {863.58109x_1 + 1006.12742x_2 -400305.91333353304}$$"
      ]
    },
    {
      "cell_type": "markdown",
      "metadata": {
        "id": "xSsPQg18VAXR"
      },
      "source": [
        "# Part 4. Use Cross Validation"
      ]
    },
    {
      "cell_type": "code",
      "metadata": {
        "id": "2OHti8sgVAXR",
        "outputId": "f2706130-59b1-4d2f-a0a3-049d546726a3"
      },
      "source": [
        "# Use the cross_val_score function to repeat your experiment across many shuffles of the data\n",
        "\n",
        "scores = cross_val_score(lin_reg, X_test, y_test, cv=5)\n",
        "scores"
      ],
      "execution_count": null,
      "outputs": [
        {
          "data": {
            "text/plain": [
              "array([0.85851856, 0.85005287, 0.82953903, 0.80537035, 0.86740215])"
            ]
          },
          "execution_count": 63,
          "metadata": {},
          "output_type": "execute_result"
        }
      ]
    },
    {
      "cell_type": "markdown",
      "metadata": {
        "id": "eCXveBGqVAXS"
      },
      "source": [
        "Report on their finding and their significance:\n",
        "The significance of the score computed at all 5 CV iteration is the score method of the estimator in this case lin_reg."
      ]
    },
    {
      "cell_type": "markdown",
      "metadata": {
        "id": "r8TdF_RiVAXS"
      },
      "source": [
        "# Part 5. Using Polynomial Regression"
      ]
    },
    {
      "cell_type": "code",
      "metadata": {
        "id": "-y8sD72xVAXS",
        "outputId": "07e7fd9b-90c7-404f-9d5b-c0087d54ae81"
      },
      "source": [
        "# Using the PolynomialFeatures library perform another regression on an augmented dataset of degree 2\n",
        "poly = PolynomialFeatures(2)\n",
        "#Report on the metrics and output the resultant equation as you did in Part 3.\n",
        "X_train=poly.fit_transform(X_train)\n",
        "X_test=poly.fit_transform(X_test)\n",
        "model=BayesianRidge()\n",
        "model.fit(X_train,y_train)\n",
        "print(f\"Score: {model.score(X_train,y_train)}\")\n",
        "print(f\"Coefficient, intercept: {model.coef_,lin_reg.intercept_}\")"
      ],
      "execution_count": null,
      "outputs": [
        {
          "name": "stdout",
          "output_type": "stream",
          "text": [
            "Score: 1.0\n",
            "Coefficient, intercept: (array([ 0.00000000e+00,  1.20000000e+01, -1.12373527e-07, -9.54969437e-12,\n",
            "        2.00000000e+00,  2.85714287e-02]), -400305.91333353304)\n"
          ]
        }
      ]
    },
    {
      "cell_type": "markdown",
      "metadata": {
        "id": "2NFTqjfDVAXT"
      },
      "source": [
        "The score is now 1 which shows the accuracy has improved drastically since that means 100% accuracy."
      ]
    },
    {
      "cell_type": "markdown",
      "metadata": {
        "id": "Rntt81afVAXT"
      },
      "source": [
        "$$y=12a-1.12374e-07b-9.54969e-12a^2+2.00000ab+.0285714b^2$$"
      ]
    }
  ]
}